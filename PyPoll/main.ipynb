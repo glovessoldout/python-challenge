{
 "cells": [
  {
   "cell_type": "code",
   "execution_count": 20,
   "metadata": {},
   "outputs": [
    {
     "name": "stdout",
     "output_type": "stream",
     "text": [
      "3521002\n",
      ".\n"
     ]
    }
   ],
   "source": [
    "#ignore this one\n",
    "\n",
    "#import os\n",
    "#import csv\n",
    "\n",
    "#csvpath = os.path.join('.', 'Resources','election_data.csv')\n",
    "#with open(csvpath) as csvfile:\n",
    "    \n",
    "#    csvreader = csv.reader(csvfile, delimiter=',')\n",
    "#    #print(csvreader)\n",
    "#    count = 0\n",
    "#    for row in csvreader:\n",
    "#        count = count + 1\n",
    "#print(count)\n",
    "#print(csvpath[0])\n",
    "\n"
   ]
  },
  {
   "cell_type": "code",
   "execution_count": 87,
   "metadata": {},
   "outputs": [],
   "source": [
    "import os\n",
    "import csv\n",
    "\n",
    "csvpath = os.path.join('.', 'Resources','election_data.csv')\n",
    "with open(csvpath) as csvfile:\n",
    "    csvreader = csv.reader(csvfile, delimiter=',')\n",
    "    vote_header = next(csvreader) #seperate header from votes\n",
    "    candidate_list = []\n",
    "    vote_count = []\n",
    "    count = 0\n",
    "    for row in csvreader:\n",
    "        count = count + 1\n",
    "        if row[2] not in candidate_list:\n",
    "            candidate_list.append(row[2])\n",
    "            vote_count.append(0)\n",
    "        nth = candidate_list.index(row[2])\n",
    "        vote_count[nth] = vote_count[nth] + 1\n",
    "    \n",
    "        \n",
    "    #print(f\"{vote_header}\")\n",
    "    #print(row)\n",
    "    #print(count)\n",
    "    #print(candidate_list)\n",
    "    #print(vote_count)\n",
    "    \n",
    "poll = open(\"./analysis/polling results.txt\",'w')\n",
    "poll.write(\"Election Results:\")\n",
    "poll.write(\"\\n\")\n",
    "poll.write(\"-------------------------------\")\n",
    "poll.write(\"\\n\")\n",
    "poll.write(f\"Total Votes:  {count}\")\n",
    "poll.write(\"\\n\")\n",
    "poll.write(\"-------------------------------\")\n",
    "poll.write(\"\\n\")\n",
    "for word in candidate_list:\n",
    "    mth = candidate_list.index(word)\n",
    "    poll.write(f\"{candidate_list[mth]}: \" \"{:.3%}\".format(vote_count[mth]/count))\n",
    "    poll.write(\"      \")\n",
    "    poll.write(\"(\"+str(vote_count[mth])+\")\")\n",
    "    poll.write(\"\\n\")\n",
    "    \n",
    "poll.write(\"-------------------------------\")\n",
    "poll.write(\"\\n\")\n",
    "winner = candidate_list[(vote_count.index(max(vote_count)))]\n",
    "poll.write(f\"Winner: {winner}\")\n",
    "poll.close()\n"
   ]
  },
  {
   "cell_type": "code",
   "execution_count": null,
   "metadata": {},
   "outputs": [],
   "source": []
  },
  {
   "cell_type": "code",
   "execution_count": null,
   "metadata": {},
   "outputs": [],
   "source": []
  }
 ],
 "metadata": {
  "kernelspec": {
   "display_name": "Python 3",
   "language": "python",
   "name": "python3"
  },
  "language_info": {
   "codemirror_mode": {
    "name": "ipython",
    "version": 3
   },
   "file_extension": ".py",
   "mimetype": "text/x-python",
   "name": "python",
   "nbconvert_exporter": "python",
   "pygments_lexer": "ipython3",
   "version": "3.7.6"
  }
 },
 "nbformat": 4,
 "nbformat_minor": 4
}
