{
 "cells": [
  {
   "cell_type": "code",
   "execution_count": 35,
   "metadata": {},
   "outputs": [],
   "source": [
    "import os\n",
    "import csv\n",
    "\n",
    "csvpath = os.path.join('.', 'Resources','budget_data.csv')\n",
    "with open(csvpath) as csvfile:\n",
    "    csvreader = csv.reader(csvfile, delimiter=',')\n",
    "    bank_header = next(csvreader) #seperate header from the data\n",
    "    date = []\n",
    "    change = [] #easier to manage this particular dataset as 2 lists\n",
    "    month = 0\n",
    "    total = 0\n",
    "    difference = 0\n",
    "    for row in csvreader:\n",
    "        month = month + 1\n",
    "        date.append(row[0])\n",
    "        change.append(int(row[1]))\n",
    "    \n",
    "dolla = open(\"./analysis/Financial Analysis.txt\",'w')\n",
    "dolla.write(\"Financial Analysis\")\n",
    "dolla.write(\"\\n\")\n",
    "dolla.write(\"-------------------------------\")\n",
    "dolla.write(\"\\n\")\n",
    "dolla.write(\"Total Months: \" + str(month))\n",
    "dolla.write(\"\\n\")\n",
    "dolla.write(\"Total: $\" + str(sum(change)/month*1.00))\n",
    "dolla.write(\"\\n\")\n",
    "dolla.write(\"Average Change: $\" +  str(sum(change)/month))\n",
    "dolla.write(\"\\n\")\n",
    "dolla.write(\"Greatest Increase in Profits: \" + date[change.index(max(change))] + \" (\"+str(max(change))+\")\")\n",
    "dolla.write(\"\\n\")\n",
    "dolla.write(\"Greatest Decrease in Profits: \" + date[change.index(min(change))] + \" (\"+str(min(change))+\")\")\n",
    "dolla.write(\"\\n\")\n",
    "dolla.write(\"\\n\")\n",
    "\n",
    "dolla.close()"
   ]
  },
  {
   "cell_type": "code",
   "execution_count": null,
   "metadata": {},
   "outputs": [],
   "source": []
  }
 ],
 "metadata": {
  "kernelspec": {
   "display_name": "Python 3",
   "language": "python",
   "name": "python3"
  },
  "language_info": {
   "codemirror_mode": {
    "name": "ipython",
    "version": 3
   },
   "file_extension": ".py",
   "mimetype": "text/x-python",
   "name": "python",
   "nbconvert_exporter": "python",
   "pygments_lexer": "ipython3",
   "version": "3.7.6"
  }
 },
 "nbformat": 4,
 "nbformat_minor": 4
}
